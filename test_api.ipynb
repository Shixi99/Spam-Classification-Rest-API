{
 "cells": [
  {
   "cell_type": "code",
   "execution_count": 1,
   "metadata": {},
   "outputs": [],
   "source": [
    "import requests"
   ]
  },
  {
   "cell_type": "code",
   "execution_count": 9,
   "id": "ab2a3e81",
   "metadata": {},
   "outputs": [
    {
     "data": {
      "text/plain": [
       "{'Hello': 'World!'}"
      ]
     },
     "execution_count": 9,
     "metadata": {},
     "output_type": "execute_result"
    }
   ],
   "source": [
    "qu = 'free phones call me 908943298347 now!!!'\n",
    "endpoint = f'https://e59c-5-197-252-3.eu.ngrok.io/?q={qu}'\n",
    "r = requests.get(endpoint)\n",
    "r.json()"
   ]
  },
  {
   "cell_type": "code",
   "execution_count": 10,
   "id": "2566c9f1",
   "metadata": {},
   "outputs": [
    {
     "data": {
      "text/plain": [
       "{'uuid': 'e9a81811-2707-11ed-b0e7-b07d6415f71a',\n",
       " 'query': 'free phones call me 908943298347 now!!!',\n",
       " 'label': 'spam',\n",
       " 'confidence': 0.7227466106414795,\n",
       " 'model_version': 'v1'}"
      ]
     },
     "execution_count": 10,
     "metadata": {},
     "output_type": "execute_result"
    }
   ],
   "source": [
    "qu = 'free phones call me 908943298347 now!!!'\n",
    "endpoint = f'https://e59c-5-197-252-3.eu.ngrok.io/'\n",
    "r = requests.post(endpoint, json={\"q\": qu})\n",
    "r.json()"
   ]
  },
  {
   "cell_type": "code",
   "execution_count": 10,
   "id": "ecc1f287",
   "metadata": {},
   "outputs": [
    {
     "name": "stdout",
     "output_type": "stream",
     "text": [
      "b'uuid,label,confidence,query,version'\n",
      "b'c2dbb474-23e0-11ed-9597-b07d6415f71a,spam,0.5060339570045471,very good song!, v1'\n",
      "b'a735b45b-25f9-11ed-9e4a-b07d6415f71a,ham,0.9724011421203613,{qu}, v1'\n",
      "b'd66bf71d-23d4-11ed-bf52-b07d6415f71a,spam,0.5137342810630798,sjkhlkj, None'\n",
      "b'0c070cca-25f8-11ed-a06a-b07d6415f71a,ham,0.9916046857833862,hello there, v1'\n",
      "b'37714593-2363-11ed-8228-b07d6415f71a,spam,0.5137342810630798,shixi, None'\n",
      "b'2768f936-2363-11ed-8253-b07d6415f71a,spam,0.5060339570045471,very good song!, None'\n",
      "b'4c4a99ae-23e6-11ed-8e28-b07d6415f71a,spam,0.8233073949813843,free phone call now buy now, v1'\n",
      "b'a08e8900-23de-11ed-b6c2-b07d6415f71a,spam,0.5014029741287231,hello how are you doing, None'\n",
      "b'a08de128-25f8-11ed-a505-b07d6415f71a,ham,0.9908834099769592,very good song!, v1'\n",
      "b'9a614ec1-23f0-11ed-8b1b-b07d6415f71a,ham,0.9823266863822937,please visit the site, there is very big discount, v1'\n",
      "b'1934b2f5-23df-11ed-b99b-b07d6415f71a,spam,0.5099892020225525,free iphone, None'\n",
      "b'57273902-23e6-11ed-9a7a-b07d6415f71a,ham,0.9856314659118652,good song congrats, v1'\n",
      "b'b049a33a-25f9-11ed-b6d5-b07d6415f71a,spam,0.9127877354621887,free phones call me buy now now my number 908943298347 now!!!, v1'\n",
      "b'b05d970f-23de-11ed-acf0-b07d6415f71a,spam,0.5061293244361877,by my new phone, None'\n",
      "b'b1198311-23f0-11ed-abae-b07d6415f71a,spam,0.749707818031311,free buy now call, v1'\n",
      "b'169fe506-25f6-11ed-a25e-b07d6415f71a,ham,0.8851792216300964,do you want to free iphone 13, v1'\n",
      "b'fbb8e72d-25f7-11ed-871c-b07d6415f71a,ham,0.9908834099769592,very good song!, v1'\n",
      "b'9f36ae18-25f9-11ed-8558-b07d6415f71a,ham,0.9724011421203613,{query}, v1'\n",
      "b'e9e5b6ed-23dd-11ed-9955-b07d6415f71a,spam,0.5060339570045471,very good song!, None'\n",
      "b'576fbff1-25f6-11ed-9555-b07d6415f71a,ham,0.9908834099769592,very good song!, v1'\n",
      "b'21ee55eb-23df-11ed-9488-b07d6415f71a,spam,0.5016153454780579,call me now 809809-, None'\n",
      "b'9a73d067-23dc-11ed-87ee-b07d6415f71a,spam,0.5060339570045471,very good song!, None'\n",
      "b'b5f50c03-25f8-11ed-a808-b07d6415f71a,ham,0.9739643931388855,how about this mf, v1'\n",
      "b'642137c6-23d5-11ed-84ae-b07d6415f71a,spam,0.5060339570045471,very good song!, None'\n",
      "b'6a976afa-2363-11ed-8556-b07d6415f71a,spam,0.500669002532959,free phone call now 9898798, None'\n",
      "b'4064d8cc-23e6-11ed-b11a-b07d6415f71a,ham,0.9943015575408936,hello how are you doing, v1'\n",
      "b'f5101810-23de-11ed-b22f-b07d6415f71a,spam,0.5137342810630798,macnificant, None'\n",
      "b'ee90d281-23dd-11ed-af8b-b07d6415f71a,spam,0.5137342810630798,shixi, None'\n",
      "b'6b704f7d-25f8-11ed-9845-b07d6415f71a,ham,0.9908834099769592,very good song!, v1'\n",
      "b'b7e13835-23de-11ed-8425-b07d6415f71a,spam,0.5137342810630798,refereence, None'\n",
      "b'5e437e6a-23e6-11ed-839a-b07d6415f71a,ham,0.9724011421203613,big discount, v1'\n",
      "b'ea62a86f-23de-11ed-a95a-b07d6415f71a,spam,0.5078731775283813,great song, None'\n",
      "b'87f04d3f-23de-11ed-9d29-b07d6415f71a,spam,0.5017528533935547,nice to meet you, None'\n",
      "b'6f7d508a-23e6-11ed-92c5-b07d6415f71a,ham,0.9576863050460815,visit my blog, v1'\n",
      "b'74376b09-25f9-11ed-b360-b07d6415f71a,ham,0.9908834099769592,very good song!, v1'\n",
      "b'bcf2d14e-23de-11ed-8313-b07d6415f71a,spam,0.506298840045929,this is not spam, None'\n",
      "b'38afcbb7-23dd-11ed-9c54-b07d6415f71a,spam,0.5060339570045471,very good song!, None'\n",
      "b'0d416c0f-2363-11ed-bb71-b07d6415f71a,spam,0.5137342810630798,sjkhlkj, None'\n",
      "b'10d01518-23df-11ed-aaee-b07d6415f71a,ham,0.5019700527191162,free iphone buy now 9980 call now, None'\n",
      "b'c18daafd-23de-11ed-973d-b07d6415f71a,spam,0.5137342810630798,wfewf, None'\n",
      "b'2ac7aeeb-2363-11ed-be08-b07d6415f71a,spam,0.5060339570045471,very good song!, None'\n",
      "b'84ec0912-23f0-11ed-9e40-b07d6415f71a,ham,0.9918122291564941,hi my name is john and i am human, v1'\n",
      "b'4b472014-23d5-11ed-b5d3-b07d6415f71a,spam,0.5060339570045471,very good song!, None'\n",
      "b'3ba404f7-2363-11ed-a274-b07d6415f71a,spam,0.5067775249481201,hello_world, None'\n",
      "b'6426673c-23d5-11ed-a6c5-b07d6415f71a,spam,0.5060339570045471,very good song!, None'\n",
      "b'66e10b64-23e6-11ed-b3dd-b07d6415f71a,ham,0.7919412851333618,big discount free iphones buy now, v1'\n",
      "b'e4ebd960-23de-11ed-80b2-b07d6415f71a,spam,0.5137342810630798,shixi, None'\n",
      "b'fdb4574c-23de-11ed-9c3b-b07d6415f71a,spam,0.5137342810630798,run forrest run, None'\n",
      "b'97ce4079-23de-11ed-a03b-b07d6415f71a,spam,0.5064109563827515,i will text back, None'\n",
      "b'55b71c2f-2363-11ed-8c0a-b07d6415f71a,ham,0.5019700527191162,free iphone buy now 9980 call now, None'\n",
      "b'b8a1c24f-25f9-11ed-b6e1-b07d6415f71a,spam,0.7227466106414795,free phones call me 908943298347 now!!!, v1'\n",
      "b'1ce5a0ad-2363-11ed-8111-b07d6415f71a,spam,0.5060339570045471,very good song!, None'\n",
      "b'2904fb50-2363-11ed-9830-b07d6415f71a,spam,0.5060339570045471,very good song!, None'\n",
      "b'97514f7a-25f9-11ed-9066-b07d6415f71a,ham,0.9724011421203613,{query}, v1'\n",
      "b'365d3881-23dd-11ed-8f12-b07d6415f71a,spam,0.500669002532959,free phone call now 9898798, None'\n",
      "b'c2ef820b-23de-11ed-8208-b07d6415f71a,spam,0.5137342810630798,wfewf, None'\n",
      "b'b510a991-23dc-11ed-a280-b07d6415f71a,spam,0.5060339570045471,very good song!, None'\n",
      "b'75e43213-23e6-11ed-b6aa-b07d6415f71a,ham,0.9916046857833862,hello there, v1'\n",
      "b'13cd0ac1-23d5-11ed-9046-b07d6415f71a,spam,0.5060339570045471,very good song!, None'\n",
      "b'b6252224-23de-11ed-9b2d-b07d6415f71a,spam,0.5137342810630798,refereence, None'\n",
      "b'a75e49af-23f0-11ed-8841-b07d6415f71a,spam,0.9023323655128479,free buy now call now tel 87987987, v1'\n",
      "b'27e86b63-23df-11ed-94f1-b07d6415f71a,spam,0.5016153454780579,call me now 809809 big discount, None'\n",
      "b'804623bb-23de-11ed-b6af-b07d6415f71a,spam,0.5070250034332275,how are fjlekf, None'\n",
      "b'8c3a5ad5-23de-11ed-bc15-b07d6415f71a,spam,0.5137342810630798,cdwfef, None'\n",
      "b'a8520f0b-23de-11ed-a552-b07d6415f71a,spam,0.5110620856285095,not spam, None'\n",
      "b'b7f518ae-25f7-11ed-9fa7-b07d6415f71a,ham,0.9724011421203613,shixi, v1'\n",
      "b'77b45bd0-23f0-11ed-906f-b07d6415f71a,ham,0.9724011421203613,shixi, v1'\n",
      "b'ffc5d688-23de-11ed-b9bc-b07d6415f71a,spam,0.5137342810630798,run forrest run, None'\n",
      "b'b4831739-25f7-11ed-97e5-b07d6415f71a,ham,0.9908834099769592,very good song!, v1'\n",
      "b'0d4a0676-25f6-11ed-95fc-b07d6415f71a,ham,0.9724011421203613,shixi, v1'\n"
     ]
    }
   ],
   "source": [
    "endpoint = f'https://5a4b-5-197-252-3.eu.ngrok.io/dataset'\n",
    "\n",
    "s = requests.Session()\n",
    "r = s.get(endpoint, stream=True)\n",
    "for line in r.iter_lines():\n",
    "    if line:\n",
    "        print(line)"
   ]
  },
  {
   "cell_type": "code",
   "execution_count": null,
   "id": "de778c05",
   "metadata": {},
   "outputs": [],
   "source": []
  }
 ],
 "metadata": {
  "interpreter": {
   "hash": "3b04b5f09bc60c29a41877673126b0a406d42a69d64ada648a22f378b1e7bfd1"
  },
  "kernelspec": {
   "display_name": "Python 3.8.8 ('base')",
   "language": "python",
   "name": "python3"
  },
  "language_info": {
   "codemirror_mode": {
    "name": "ipython",
    "version": 3
   },
   "file_extension": ".py",
   "mimetype": "text/x-python",
   "name": "python",
   "nbconvert_exporter": "python",
   "pygments_lexer": "ipython3",
   "version": "3.9.12"
  }
 },
 "nbformat": 4,
 "nbformat_minor": 5
}
